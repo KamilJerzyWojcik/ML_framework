{
 "cells": [
  {
   "cell_type": "code",
   "execution_count": 1,
   "metadata": {},
   "outputs": [],
   "source": [
    "# import\n",
    "\n",
    "import pandas as pd\n",
    "\n",
    "from warnings import simplefilter\n",
    "simplefilter(\"ignore\")\n",
    "\n",
    "pd.set_option('display.max_columns', None)\n",
    "pd.set_option('display.max_rows', None)\n",
    "\n",
    "from ML_lib.FeatureEngineering.PipelineService import PipelineService\n",
    "\n",
    "from ML_lib.Services.PlotService import PlotService\n",
    "\n",
    "from ML_lib.Services.SplitDataService import SplitDataService\n",
    "\n",
    "from ML_lib.Services.TitanicModelService import TitanicModelService\n",
    "\n",
    "from ML_lib.Services.ModelRegularization.RandomForestClassifierTitanic import RandomForestClassifierTitanic\n",
    "\n",
    "%matplotlib inline\n",
    "import matplotlib as mpl\n",
    "\n",
    "import matplotlib.pyplot as plt\n",
    "\n",
    "mpl.rc('axes', labelsize=14)\n",
    "mpl.rc('xtick', labelsize=12)\n",
    "mpl.rc('ytick', labelsize=12)\n",
    "\n",
    "\n",
    "# initalization\n",
    "\n",
    "#df_train_path = 'https://raw.githubusercontent.com/dataworkshop/webinar-titanic/master/input/train.csv'\n",
    "\n",
    "#df_test_path = 'https://raw.githubusercontent.com/dataworkshop/webinar-titanic/master/input/test.csv'\n",
    "\n",
    "train_titanic = pd.read_csv(\"input/train_titanic.csv\")\n",
    "#train_titanic.to_csv(\"input/train_titanic.csv\", index=False)\n",
    "\n",
    "#test_titanic = pd.read_csv(\"input/test_titanic.csv\")\n",
    "#test_titanic.to_csv(\"input/test_titanic.csv\", index=False)\n",
    "\n",
    "titanicPipeline = PipelineService()\n",
    "\n",
    "plotService = PlotService()\n",
    "\n",
    "splitDataService = SplitDataService()\n",
    "\n",
    "titanicModelService = TitanicModelService()\n",
    "\n",
    "randomForestClassifierTitanic = RandomForestClassifierTitanic()\n",
    "\n",
    "\n",
    "# transform and split data\n",
    "\n",
    "train_tr_titanic = titanicPipeline.pipeline_first(train_titanic)\n",
    "\n",
    "# test_tr_titanic = titanicPipeline.pipeline_first(test_titanic)\n",
    "\n",
    "\n",
    "# numeric data\n",
    "\n",
    "train_tr_num_titanic = titanicPipeline.pipeline_first_num(train_titanic)\n"
   ]
  },
  {
   "cell_type": "code",
   "execution_count": 2,
   "metadata": {},
   "outputs": [],
   "source": [
    "# plotService.show_corr_matrix(train_tr_num_titanic, \"Survived\")\n"
   ]
  },
  {
   "cell_type": "code",
   "execution_count": 3,
   "metadata": {},
   "outputs": [],
   "source": [
    "# rozdzielenie treningowego zestawu na train i test\n",
    "\n",
    "train_strat_num_titanic, test_strat_num_titanic = splitDataService.split_train_test_strat(train_tr_num_titanic, \"sex_cat\")\n"
   ]
  },
  {
   "cell_type": "code",
   "execution_count": 4,
   "metadata": {},
   "outputs": [],
   "source": [
    "# proste trenowanie modeli\n",
    "\n",
    "# walidacja modelu\n",
    "# titanicModelService.titanic_simple_models_final_test(train_strat_num_titanic, test_strat_num_titanic)\n"
   ]
  },
  {
   "cell_type": "code",
   "execution_count": 5,
   "metadata": {},
   "outputs": [
    {
     "name": "stdout",
     "output_type": "stream",
     "text": [
      "RandomForestClassifier\n"
     ]
    },
    {
     "data": {
      "text/html": [
       "<div>\n",
       "<style scoped>\n",
       "    .dataframe tbody tr th:only-of-type {\n",
       "        vertical-align: middle;\n",
       "    }\n",
       "\n",
       "    .dataframe tbody tr th {\n",
       "        vertical-align: top;\n",
       "    }\n",
       "\n",
       "    .dataframe thead th {\n",
       "        text-align: right;\n",
       "    }\n",
       "</style>\n",
       "<table border=\"1\" class=\"dataframe\">\n",
       "  <thead>\n",
       "    <tr style=\"text-align: right;\">\n",
       "      <th></th>\n",
       "      <th>n_estimators</th>\n",
       "      <th>max_depth</th>\n",
       "      <th>min_samples_split</th>\n",
       "      <th>min_samples_leaf</th>\n",
       "      <th>min_weight_fraction_leaf</th>\n",
       "      <th>max_features</th>\n",
       "      <th>max_leaf_nodes</th>\n",
       "      <th>min_impurity_decrease</th>\n",
       "      <th>bootstrap</th>\n",
       "      <th>oob_score</th>\n",
       "      <th>accuracy</th>\n",
       "    </tr>\n",
       "  </thead>\n",
       "  <tbody>\n",
       "    <tr>\n",
       "      <td>0</td>\n",
       "      <td>[10]</td>\n",
       "      <td>[10]</td>\n",
       "      <td>[20]</td>\n",
       "      <td>[1]</td>\n",
       "      <td>[0.0]</td>\n",
       "      <td>['auto']</td>\n",
       "      <td>[None]</td>\n",
       "      <td>[0.0]</td>\n",
       "      <td>[True]</td>\n",
       "      <td>[False]</td>\n",
       "      <td>prediction</td>\n",
       "    </tr>\n",
       "    <tr>\n",
       "      <td>1</td>\n",
       "      <td>10</td>\n",
       "      <td>10</td>\n",
       "      <td>20</td>\n",
       "      <td>1</td>\n",
       "      <td>0</td>\n",
       "      <td>auto</td>\n",
       "      <td>None</td>\n",
       "      <td>0</td>\n",
       "      <td>True</td>\n",
       "      <td>False</td>\n",
       "      <td>0.845506</td>\n",
       "    </tr>\n",
       "  </tbody>\n",
       "</table>\n",
       "</div>"
      ],
      "text/plain": [
       "  n_estimators max_depth min_samples_split min_samples_leaf  \\\n",
       "0         [10]      [10]              [20]              [1]   \n",
       "1           10        10                20                1   \n",
       "\n",
       "  min_weight_fraction_leaf max_features max_leaf_nodes min_impurity_decrease  \\\n",
       "0                    [0.0]     ['auto']         [None]                 [0.0]   \n",
       "1                        0         auto           None                     0   \n",
       "\n",
       "  bootstrap oob_score    accuracy  \n",
       "0    [True]   [False]  prediction  \n",
       "1      True     False    0.845506  "
      ]
     },
     "metadata": {},
     "output_type": "display_data"
    }
   ],
   "source": [
    "# strojenie parametrów\n",
    "\n",
    "result_list_df = randomForestClassifierTitanic.approximation_1(train_strat_num_titanic)\n",
    "# 0.845506\n",
    "\n"
   ]
  },
  {
   "cell_type": "code",
   "execution_count": 6,
   "metadata": {},
   "outputs": [],
   "source": [
    "# ostateczne modele\n",
    "\n",
    "# titanicModelService.titanic_predicts_final_models(train_strat_num_titanic, test_strat_num_titanic)"
   ]
  },
  {
   "cell_type": "code",
   "execution_count": null,
   "metadata": {},
   "outputs": [],
   "source": []
  }
 ],
 "metadata": {
  "kernelspec": {
   "display_name": "Python 3",
   "language": "python",
   "name": "python3"
  },
  "language_info": {
   "codemirror_mode": {
    "name": "ipython",
    "version": 3
   },
   "file_extension": ".py",
   "mimetype": "text/x-python",
   "name": "python",
   "nbconvert_exporter": "python",
   "pygments_lexer": "ipython3",
   "version": "3.7.4"
  }
 },
 "nbformat": 4,
 "nbformat_minor": 2
}
