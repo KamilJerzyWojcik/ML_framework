{
 "cells": [
  {
   "cell_type": "code",
   "execution_count": 1,
   "metadata": {},
   "outputs": [],
   "source": [
    "# import\n",
    "\n",
    "import pandas as pd\n",
    "\n",
    "from warnings import simplefilter\n",
    "simplefilter(\"ignore\")\n",
    "\n",
    "pd.set_option('display.max_columns', None)\n",
    "pd.set_option('display.max_rows', None)\n",
    "\n",
    "from ML_lib.FeatureEngineering.PipelineService import PipelineService\n",
    "\n",
    "from ML_lib.Services.PlotService import PlotService\n",
    "\n",
    "from ML_lib.Services.SplitDataService import SplitDataService\n",
    "\n",
    "from ML_lib.Services.TitanicModelService import TitanicModelService\n",
    "\n",
    "\n",
    "from ML_lib.Services.ModelRegularization.SVCClassifierTitanic import SVCClassifierTitanic\n",
    "\n",
    "\n",
    "\n",
    "%matplotlib inline\n",
    "import matplotlib as mpl\n",
    "\n",
    "import matplotlib.pyplot as plt\n",
    "\n",
    "mpl.rc('axes', labelsize=14)\n",
    "mpl.rc('xtick', labelsize=12)\n",
    "mpl.rc('ytick', labelsize=12)\n",
    "\n",
    "\n",
    "# initalization\n",
    "\n",
    "#df_train_path = 'https://raw.githubusercontent.com/dataworkshop/webinar-titanic/master/input/train.csv'\n",
    "#df_test_path = 'https://raw.githubusercontent.com/dataworkshop/webinar-titanic/master/input/test.csv'\n",
    "\n",
    "train_titanic = pd.read_csv(\"input/train_titanic.csv\")\n",
    "#train_titanic.to_csv(\"input/train_titanic.csv\", index=False)\n",
    "\n",
    "#test_titanic = pd.read_csv(\"input/test_titanic.csv\")\n",
    "#test_titanic.to_csv(\"input/test_titanic.csv\", index=False)\n",
    "\n",
    "titanicPipeline = PipelineService()\n",
    "\n",
    "plotService = PlotService()\n",
    "\n",
    "splitDataService = SplitDataService()\n",
    "\n",
    "titanicModelService = TitanicModelService()\n",
    "\n",
    "# transform and split data\n",
    "\n",
    "train_tr_titanic = titanicPipeline.pipeline_first(train_titanic)\n",
    "\n",
    "# test_tr_titanic = titanicPipeline.pipeline_first(test_titanic)\n",
    "\n",
    "\n",
    "# numeric data\n",
    "\n",
    "train_tr_num_titanic = titanicPipeline.pipeline_first_num(train_titanic)\n"
   ]
  },
  {
   "cell_type": "code",
   "execution_count": 2,
   "metadata": {},
   "outputs": [],
   "source": [
    "# rozdzielenie treningowego zestawu na train i test\n",
    "\n",
    "train_strat_num_titanic, test_strat_num_titanic = splitDataService.split_train_test_strat(train_tr_num_titanic, \"sex_cat\")\n"
   ]
  },
  {
   "cell_type": "code",
   "execution_count": 3,
   "metadata": {},
   "outputs": [],
   "source": [
    "# simple models\n",
    "\n",
    "# titanicModelService.titanic_predict_simple_models(train_strat_num_titanic, test_strat_num_titanic)\n",
    "# 'DecisionTreeClassifier: accuracy: 0.7597765363128491'\n",
    "# 'LogisticRegression: accuracy: 0.7932960893854749'\n",
    "# 'ExtraTreesClassifier: accuracy: 0.8156424581005587'\n",
    "# 'RandomForestClassifier: accuracy: 0.8044692737430168'\n",
    "# 'Ridge: accuracy: 0.8156424581005587'"
   ]
  },
  {
   "cell_type": "code",
   "execution_count": 4,
   "metadata": {},
   "outputs": [],
   "source": [
    "# regularized models\n",
    "\n",
    "# titanicModelService.titanic_predicts_final_models(train_strat_num_titanic, test_strat_num_titanic)\n",
    "# 'DecisionTreeClassifier: accuracy: 0.8044692737430168'\n",
    "# 'ExtraTreesClassifier: accuracy: 0.8268156424581006'\n",
    "# 'LogisticRegression: accuracy: 0.7932960893854749'\n",
    "# 'RandomForestClassifier: accuracy: 0.8324022346368715'\n",
    "# 'Ridge: accuracy: 0.7988826815642458'"
   ]
  },
  {
   "cell_type": "code",
   "execution_count": 5,
   "metadata": {},
   "outputs": [],
   "source": [
    "sVCClassifierTitanic = SVCClassifierTitanic()\n",
    "# 0.823033707865168"
   ]
  },
  {
   "cell_type": "code",
   "execution_count": null,
   "metadata": {},
   "outputs": [
    {
     "name": "stdout",
     "output_type": "stream",
     "text": [
      "SVCClassifierTitanic random grid\n"
     ]
    }
   ],
   "source": [
    "SVC_df = sVCClassifierTitanic.approximation_random_grid(train_strat_num_titanic, 300)"
   ]
  },
  {
   "cell_type": "code",
   "execution_count": null,
   "metadata": {},
   "outputs": [],
   "source": []
  }
 ],
 "metadata": {
  "kernelspec": {
   "display_name": "Python 3",
   "language": "python",
   "name": "python3"
  },
  "language_info": {
   "codemirror_mode": {
    "name": "ipython",
    "version": 3
   },
   "file_extension": ".py",
   "mimetype": "text/x-python",
   "name": "python",
   "nbconvert_exporter": "python",
   "pygments_lexer": "ipython3",
   "version": "3.7.4"
  }
 },
 "nbformat": 4,
 "nbformat_minor": 2
}
