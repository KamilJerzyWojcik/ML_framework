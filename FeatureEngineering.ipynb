{
 "cells": [
  {
   "cell_type": "code",
   "execution_count": 1,
   "metadata": {},
   "outputs": [],
   "source": [
    "# import\n",
    "\n",
    "import pandas as pd\n",
    "\n",
    "from warnings import simplefilter\n",
    "simplefilter(\"ignore\")\n",
    "\n",
    "pd.set_option('display.max_columns', None)\n",
    "pd.set_option('display.max_rows', None)\n",
    "\n",
    "from ML_lib.FeatureEngineering.PipelineService import PipelineService\n",
    "\n",
    "from ML_lib.Services.PlotService import PlotService\n",
    "\n",
    "from ML_lib.Services.SplitDataService import SplitDataService\n",
    "\n",
    "from ML_lib.Services.TitanicModelService import TitanicModelService\n",
    "\n",
    "from ML_lib.Services.ModelRegularization.RandomForestClassifierTitanic import RandomForestClassifierTitanic\n",
    "\n",
    "%matplotlib inline\n",
    "import matplotlib as mpl\n",
    "\n",
    "import matplotlib.pyplot as plt\n",
    "\n",
    "mpl.rc('axes', labelsize=14)\n",
    "mpl.rc('xtick', labelsize=12)\n",
    "mpl.rc('ytick', labelsize=12)\n",
    "\n",
    "\n",
    "# initalization\n",
    "\n",
    "#df_train_path = 'https://raw.githubusercontent.com/dataworkshop/webinar-titanic/master/input/train.csv'\n",
    "\n",
    "#df_test_path = 'https://raw.githubusercontent.com/dataworkshop/webinar-titanic/master/input/test.csv'\n",
    "\n",
    "train_titanic = pd.read_csv(\"input/train_titanic.csv\")\n",
    "#train_titanic.to_csv(\"input/train_titanic.csv\", index=False)\n",
    "\n",
    "#test_titanic = pd.read_csv(\"input/test_titanic.csv\")\n",
    "#test_titanic.to_csv(\"input/test_titanic.csv\", index=False)\n",
    "\n",
    "titanicPipeline = PipelineService()\n",
    "\n",
    "plotService = PlotService()\n",
    "\n",
    "splitDataService = SplitDataService()\n",
    "\n",
    "titanicModelService = TitanicModelService()\n",
    "\n",
    "randomForestClassifierTitanic = RandomForestClassifierTitanic()\n",
    "\n",
    "\n",
    "# transform and split data\n",
    "\n",
    "train_tr_titanic = titanicPipeline.pipeline_first(train_titanic)\n",
    "\n",
    "# test_tr_titanic = titanicPipeline.pipeline_first(test_titanic)\n",
    "\n",
    "\n",
    "# numeric data\n",
    "\n",
    "train_tr_num_titanic = titanicPipeline.pipeline_first_num(train_titanic)\n"
   ]
  },
  {
   "cell_type": "code",
   "execution_count": 2,
   "metadata": {},
   "outputs": [],
   "source": [
    "# plotService.show_corr_matrix(train_tr_num_titanic, \"Survived\")\n"
   ]
  },
  {
   "cell_type": "code",
   "execution_count": 3,
   "metadata": {},
   "outputs": [],
   "source": [
    "# rozdzielenie treningowego zestawu na train i test\n",
    "\n",
    "train_strat_num_titanic, test_strat_num_titanic = splitDataService.split_train_test_strat(train_tr_num_titanic, \"sex_cat\")\n"
   ]
  },
  {
   "cell_type": "code",
   "execution_count": 4,
   "metadata": {},
   "outputs": [],
   "source": [
    "# proste trenowanie modeli\n",
    "\n",
    "# walidacja modelu\n",
    "# titanicModelService.titanic_simple_models_final_test(train_strat_num_titanic, test_strat_num_titanic)\n"
   ]
  },
  {
   "cell_type": "code",
   "execution_count": 5,
   "metadata": {},
   "outputs": [
    {
     "ename": "AttributeError",
     "evalue": "'RandomForestClassifierTitanic' object has no attribute 'name_estymator_grid'",
     "output_type": "error",
     "traceback": [
      "\u001b[0;31m---------------------------------------------------------------------------\u001b[0m",
      "\u001b[0;31mAttributeError\u001b[0m                            Traceback (most recent call last)",
      "\u001b[0;32m<ipython-input-5-b143398c7bc2>\u001b[0m in \u001b[0;36m<module>\u001b[0;34m\u001b[0m\n\u001b[1;32m      1\u001b[0m \u001b[0;31m# strojenie parametrów\u001b[0m\u001b[0;34m\u001b[0m\u001b[0;34m\u001b[0m\u001b[0;34m\u001b[0m\u001b[0m\n\u001b[1;32m      2\u001b[0m \u001b[0;34m\u001b[0m\u001b[0m\n\u001b[0;32m----> 3\u001b[0;31m \u001b[0mresult_list_df\u001b[0m \u001b[0;34m=\u001b[0m \u001b[0mrandomForestClassifierTitanic\u001b[0m\u001b[0;34m.\u001b[0m\u001b[0mapproximation\u001b[0m\u001b[0;34m(\u001b[0m\u001b[0mtrain_strat_num_titanic\u001b[0m\u001b[0;34m)\u001b[0m\u001b[0;34m\u001b[0m\u001b[0;34m\u001b[0m\u001b[0m\n\u001b[0m\u001b[1;32m      4\u001b[0m \u001b[0;31m# 0.845506\u001b[0m\u001b[0;34m\u001b[0m\u001b[0;34m\u001b[0m\u001b[0;34m\u001b[0m\u001b[0m\n\u001b[1;32m      5\u001b[0m \u001b[0;34m\u001b[0m\u001b[0m\n",
      "\u001b[0;32m~/projects/ML_framework/ML_lib/Services/ModelRegularization/RandomForestClassifierTitanic.py\u001b[0m in \u001b[0;36mapproximation\u001b[0;34m(self, train_strat_num_titanic)\u001b[0m\n\u001b[1;32m     37\u001b[0m         ]\n\u001b[1;32m     38\u001b[0m \u001b[0;34m\u001b[0m\u001b[0m\n\u001b[0;32m---> 39\u001b[0;31m         \u001b[0mprint\u001b[0m\u001b[0;34m(\u001b[0m\u001b[0;34mf\"{self.name_estymator_grid} grid\"\u001b[0m\u001b[0;34m)\u001b[0m\u001b[0;34m\u001b[0m\u001b[0;34m\u001b[0m\u001b[0m\n\u001b[0m\u001b[1;32m     40\u001b[0m         \u001b[0mdataframes\u001b[0m \u001b[0;34m=\u001b[0m \u001b[0;34m[\u001b[0m\u001b[0;34m]\u001b[0m\u001b[0;34m\u001b[0m\u001b[0;34m\u001b[0m\u001b[0m\n\u001b[1;32m     41\u001b[0m \u001b[0;34m\u001b[0m\u001b[0m\n",
      "\u001b[0;31mAttributeError\u001b[0m: 'RandomForestClassifierTitanic' object has no attribute 'name_estymator_grid'"
     ]
    }
   ],
   "source": [
    "# strojenie parametrów\n",
    "\n",
    "result_list_df = randomForestClassifierTitanic.approximation(train_strat_num_titanic)\n",
    "# 0.845506\n",
    "\n"
   ]
  },
  {
   "cell_type": "code",
   "execution_count": null,
   "metadata": {},
   "outputs": [],
   "source": [
    "# ostateczne modele\n",
    "result_list_df = randomForestClassifierTitanic.approximation_random_grid(train_strat_num_titanic)\n",
    "\n",
    "# titanicModelService.titanic_predicts_final_models(train_strat_num_titanic, test_strat_num_titanic)"
   ]
  },
  {
   "cell_type": "code",
   "execution_count": null,
   "metadata": {},
   "outputs": [],
   "source": [
    "best = pd.read_csv('RandomTreeClasifier/02_11_2019/RandomTreeClasifier_final_result_20191102.csv')"
   ]
  },
  {
   "cell_type": "code",
   "execution_count": null,
   "metadata": {},
   "outputs": [],
   "source": [
    "best\n"
   ]
  },
  {
   "cell_type": "code",
   "execution_count": null,
   "metadata": {},
   "outputs": [],
   "source": [
    "\n"
   ]
  },
  {
   "cell_type": "code",
   "execution_count": null,
   "metadata": {},
   "outputs": [],
   "source": []
  }
 ],
 "metadata": {
  "kernelspec": {
   "display_name": "Python 3",
   "language": "python",
   "name": "python3"
  },
  "language_info": {
   "codemirror_mode": {
    "name": "ipython",
    "version": 3
   },
   "file_extension": ".py",
   "mimetype": "text/x-python",
   "name": "python",
   "nbconvert_exporter": "python",
   "pygments_lexer": "ipython3",
   "version": "3.7.4"
  }
 },
 "nbformat": 4,
 "nbformat_minor": 2
}
